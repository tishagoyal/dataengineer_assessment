{
 "cells": [
  {
   "cell_type": "markdown",
   "id": "crazy-sphere",
   "metadata": {},
   "source": [
    "Data Engineer Assessment \n",
    "\n",
    "INCUBYTES\n",
    "\n",
    "Tisha Goyal"
   ]
  },
  {
   "cell_type": "code",
   "execution_count": 1,
   "id": "opposite-encyclopedia",
   "metadata": {},
   "outputs": [],
   "source": [
    "import pandas as pd"
   ]
  },
  {
   "cell_type": "code",
   "execution_count": 2,
   "id": "australian-houston",
   "metadata": {
    "scrolled": true
   },
   "outputs": [],
   "source": [
    "z=[]\n",
    "with open('Document.txt','r') as file:\n",
    "    col= file.readline().strip().lstrip(\"|\")\n",
    "    for i in file:\n",
    "        z.append(i.strip().lstrip(\"|\"))\n",
    "        \n",
    "#print(col)    \n",
    "#print(z)\n"
   ]
  },
  {
   "cell_type": "code",
   "execution_count": 3,
   "id": "crude-cliff",
   "metadata": {},
   "outputs": [
    {
     "data": {
      "text/html": [
       "<div>\n",
       "<style scoped>\n",
       "    .dataframe tbody tr th:only-of-type {\n",
       "        vertical-align: middle;\n",
       "    }\n",
       "\n",
       "    .dataframe tbody tr th {\n",
       "        vertical-align: top;\n",
       "    }\n",
       "\n",
       "    .dataframe thead tr th {\n",
       "        text-align: left;\n",
       "    }\n",
       "</style>\n",
       "<table border=\"1\" class=\"dataframe\">\n",
       "  <thead>\n",
       "    <tr>\n",
       "      <th></th>\n",
       "      <th>H</th>\n",
       "      <th>Customer_Name</th>\n",
       "      <th>Customer_Id</th>\n",
       "      <th>Open_Date</th>\n",
       "      <th>Last_Consulted_Date</th>\n",
       "      <th>Vaccination_Id</th>\n",
       "      <th>Dr_Name</th>\n",
       "      <th>State</th>\n",
       "      <th>Country</th>\n",
       "      <th>DOB</th>\n",
       "      <th>Is_Active</th>\n",
       "    </tr>\n",
       "  </thead>\n",
       "  <tbody>\n",
       "  </tbody>\n",
       "</table>\n",
       "</div>"
      ],
      "text/plain": [
       "Empty DataFrame\n",
       "Columns: [(H,), (Customer_Name,), (Customer_Id,), (Open_Date,), (Last_Consulted_Date,), (Vaccination_Id,), (Dr_Name,), (State,), (Country,), (DOB,), (Is_Active,)]\n",
       "Index: []"
      ]
     },
     "execution_count": 3,
     "metadata": {},
     "output_type": "execute_result"
    }
   ],
   "source": [
    "x= col.split(\"|\")\n",
    "x  \n",
    "df= pd.DataFrame(columns= [x])\n",
    "df"
   ]
  },
  {
   "cell_type": "code",
   "execution_count": 4,
   "id": "outdoor-acrylic",
   "metadata": {},
   "outputs": [
    {
     "name": "stdout",
     "output_type": "stream",
     "text": [
      "['D', 'Alex', '123457', '20101012', '20121013', 'MVD', 'Paul', 'SA', 'USA', '06031987', 'A']\n",
      "['D', 'John', '123458', '20101012', '20121013', 'MVD', 'Paul', 'TN', 'IND', '06031987', 'A']\n",
      "['D', 'Mathew', '123459', '20101012', '20121013', 'MVD', 'Paul', 'WAS', 'PHIL', '06031987', 'A']\n",
      "['D', 'Matt', '12345', '20101012', '20121013', 'MVD', 'Paul', 'BOS', 'NYC', '06031987', 'A']\n",
      "['D', 'Jacob', '1256', '20101012', '20121013', 'MVD', 'Paul', 'VIC', 'AU', '06031987', 'A']\n",
      "['D', 'Alex', '123457', '20101012', '20121013', 'MVD', 'Paul', 'SA', 'IND', '06031987', 'A']\n",
      "['D', 'John', '123458', '20101012', '20121013', 'MVD', 'Paul', 'TN', 'USA', '06031987', 'A']\n"
     ]
    }
   ],
   "source": [
    "temp=[]\n",
    "\n",
    "for i in range(len(z)):\n",
    "    temp=(z[i].split(\"|\"))\n",
    "    df.loc[len(df)] = temp\n",
    "    print(temp)"
   ]
  },
  {
   "cell_type": "code",
   "execution_count": 9,
   "id": "serious-verification",
   "metadata": {},
   "outputs": [
    {
     "data": {
      "text/html": [
       "<div>\n",
       "<style scoped>\n",
       "    .dataframe tbody tr th:only-of-type {\n",
       "        vertical-align: middle;\n",
       "    }\n",
       "\n",
       "    .dataframe tbody tr th {\n",
       "        vertical-align: top;\n",
       "    }\n",
       "\n",
       "    .dataframe thead tr th {\n",
       "        text-align: left;\n",
       "    }\n",
       "</style>\n",
       "<table border=\"1\" class=\"dataframe\">\n",
       "  <thead>\n",
       "    <tr>\n",
       "      <th></th>\n",
       "      <th>Customer_Id</th>\n",
       "      <th>Customer_Name</th>\n",
       "      <th>Open_Date</th>\n",
       "      <th>Last_Consulted_Date</th>\n",
       "      <th>Vaccination_Id</th>\n",
       "      <th>Dr_Name</th>\n",
       "      <th>State</th>\n",
       "      <th>Country</th>\n",
       "      <th>DOB</th>\n",
       "      <th>Is_Active</th>\n",
       "    </tr>\n",
       "  </thead>\n",
       "  <tbody>\n",
       "    <tr>\n",
       "      <th>0</th>\n",
       "      <td>123457</td>\n",
       "      <td>Alex</td>\n",
       "      <td>20101012</td>\n",
       "      <td>20121013</td>\n",
       "      <td>MVD</td>\n",
       "      <td>Paul</td>\n",
       "      <td>SA</td>\n",
       "      <td>USA</td>\n",
       "      <td>06031987</td>\n",
       "      <td>A</td>\n",
       "    </tr>\n",
       "    <tr>\n",
       "      <th>1</th>\n",
       "      <td>123458</td>\n",
       "      <td>John</td>\n",
       "      <td>20101012</td>\n",
       "      <td>20121013</td>\n",
       "      <td>MVD</td>\n",
       "      <td>Paul</td>\n",
       "      <td>TN</td>\n",
       "      <td>IND</td>\n",
       "      <td>06031987</td>\n",
       "      <td>A</td>\n",
       "    </tr>\n",
       "    <tr>\n",
       "      <th>2</th>\n",
       "      <td>123459</td>\n",
       "      <td>Mathew</td>\n",
       "      <td>20101012</td>\n",
       "      <td>20121013</td>\n",
       "      <td>MVD</td>\n",
       "      <td>Paul</td>\n",
       "      <td>WAS</td>\n",
       "      <td>PHIL</td>\n",
       "      <td>06031987</td>\n",
       "      <td>A</td>\n",
       "    </tr>\n",
       "    <tr>\n",
       "      <th>3</th>\n",
       "      <td>12345</td>\n",
       "      <td>Matt</td>\n",
       "      <td>20101012</td>\n",
       "      <td>20121013</td>\n",
       "      <td>MVD</td>\n",
       "      <td>Paul</td>\n",
       "      <td>BOS</td>\n",
       "      <td>NYC</td>\n",
       "      <td>06031987</td>\n",
       "      <td>A</td>\n",
       "    </tr>\n",
       "    <tr>\n",
       "      <th>4</th>\n",
       "      <td>1256</td>\n",
       "      <td>Jacob</td>\n",
       "      <td>20101012</td>\n",
       "      <td>20121013</td>\n",
       "      <td>MVD</td>\n",
       "      <td>Paul</td>\n",
       "      <td>VIC</td>\n",
       "      <td>AU</td>\n",
       "      <td>06031987</td>\n",
       "      <td>A</td>\n",
       "    </tr>\n",
       "    <tr>\n",
       "      <th>5</th>\n",
       "      <td>123457</td>\n",
       "      <td>Alex</td>\n",
       "      <td>20101012</td>\n",
       "      <td>20121013</td>\n",
       "      <td>MVD</td>\n",
       "      <td>Paul</td>\n",
       "      <td>SA</td>\n",
       "      <td>IND</td>\n",
       "      <td>06031987</td>\n",
       "      <td>A</td>\n",
       "    </tr>\n",
       "    <tr>\n",
       "      <th>6</th>\n",
       "      <td>123458</td>\n",
       "      <td>John</td>\n",
       "      <td>20101012</td>\n",
       "      <td>20121013</td>\n",
       "      <td>MVD</td>\n",
       "      <td>Paul</td>\n",
       "      <td>TN</td>\n",
       "      <td>USA</td>\n",
       "      <td>06031987</td>\n",
       "      <td>A</td>\n",
       "    </tr>\n",
       "  </tbody>\n",
       "</table>\n",
       "</div>"
      ],
      "text/plain": [
       "  Customer_Id Customer_Name Open_Date Last_Consulted_Date Vaccination_Id  \\\n",
       "0      123457          Alex  20101012            20121013            MVD   \n",
       "1      123458          John  20101012            20121013            MVD   \n",
       "2      123459        Mathew  20101012            20121013            MVD   \n",
       "3       12345          Matt  20101012            20121013            MVD   \n",
       "4        1256         Jacob  20101012            20121013            MVD   \n",
       "5      123457          Alex  20101012            20121013            MVD   \n",
       "6      123458          John  20101012            20121013            MVD   \n",
       "\n",
       "  Dr_Name State Country       DOB Is_Active  \n",
       "0    Paul    SA     USA  06031987         A  \n",
       "1    Paul    TN     IND  06031987         A  \n",
       "2    Paul   WAS    PHIL  06031987         A  \n",
       "3    Paul   BOS     NYC  06031987         A  \n",
       "4    Paul   VIC      AU  06031987         A  \n",
       "5    Paul    SA     IND  06031987         A  \n",
       "6    Paul    TN     USA  06031987         A  "
      ]
     },
     "execution_count": 9,
     "metadata": {},
     "output_type": "execute_result"
    }
   ],
   "source": [
    "\n",
    "column_names= [\"H\", \"Customer_Id\", \"Customer_Name\", \"Open_Date\", \"Last_Consulted_Date\", \"Vaccination_Id\",  \"Dr_Name\", \"State\", \"Country\", \"DOB\", \"Is_Active\"]\n",
    "df = df.reindex(columns= [column_names])\n",
    "df= df.drop(columns=[\"H\"], level = 0)\n",
    "df\n"
   ]
  },
  {
   "cell_type": "markdown",
   "id": "intensive-pennsylvania",
   "metadata": {},
   "source": [
    "This data can be transfered to the database now\n",
    "\n",
    "To group data according Country we can use the following query in SQL\n",
    "\n",
    ">> SELECT *  FROM table_name GROUP BY Country\n",
    "\n",
    "Future to retirve data from the tables using Customer_id\n",
    "we can follow the following queries \n",
    "\n",
    ">>SELECT * FROM table_name WHERE Customer_Id = \"123457\""
   ]
  },
  {
   "cell_type": "code",
   "execution_count": null,
   "id": "regional-alarm",
   "metadata": {},
   "outputs": [],
   "source": []
  },
  {
   "cell_type": "code",
   "execution_count": null,
   "id": "stretch-girlfriend",
   "metadata": {},
   "outputs": [],
   "source": []
  }
 ],
 "metadata": {
  "kernelspec": {
   "display_name": "Python 3",
   "language": "python",
   "name": "python3"
  },
  "language_info": {
   "codemirror_mode": {
    "name": "ipython",
    "version": 3
   },
   "file_extension": ".py",
   "mimetype": "text/x-python",
   "name": "python",
   "nbconvert_exporter": "python",
   "pygments_lexer": "ipython3",
   "version": "3.8.5"
  }
 },
 "nbformat": 4,
 "nbformat_minor": 5
}
